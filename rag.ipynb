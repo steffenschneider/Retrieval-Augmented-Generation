{
 "cells": [
  {
   "cell_type": "code",
   "execution_count": 6,
   "id": "f9e3505f",
   "metadata": {},
   "outputs": [],
   "source": [
    "#!pip install langchain\n",
    "#!pip install langchain-community\n",
    "#!pip install faiss-cpu\n",
    "#!pip install openai\n",
    "#!pip install sentence-transformers\n",
    "#!pip install tf-keras"
   ]
  },
  {
   "cell_type": "code",
   "execution_count": null,
   "id": "2790a983",
   "metadata": {},
   "outputs": [
    {
     "name": "stdout",
     "output_type": "stream",
     "text": [
      "Loading documents...\n",
      "Loaded 1 documents.\n",
      "Splitting into chunks...\n",
      "11749 chunks created.\n",
      "Creating vector index...\n"
     ]
    },
    {
     "name": "stderr",
     "output_type": "stream",
     "text": [
      "C:\\Users\\Steffen\\AppData\\Local\\Temp\\ipykernel_11760\\4053157642.py:42: LangChainDeprecationWarning: The class `HuggingFaceEmbeddings` was deprecated in LangChain 0.2.2 and will be removed in 1.0. An updated version of the class exists in the :class:`~langchain-huggingface package and should be used instead. To use it run `pip install -U :class:`~langchain-huggingface` and import as `from :class:`~langchain_huggingface import HuggingFaceEmbeddings``.\n",
      "  embeddings = HuggingFaceEmbeddings(model_name=\"all-MiniLM-L6-v2\")\n"
     ]
    },
    {
     "name": "stdout",
     "output_type": "stream",
     "text": [
      "WARNING:tensorflow:From C:\\Users\\Steffen\\anaconda3\\Lib\\site-packages\\tf_keras\\src\\losses.py:2976: The name tf.losses.sparse_softmax_cross_entropy is deprecated. Please use tf.compat.v1.losses.sparse_softmax_cross_entropy instead.\n",
      "\n",
      "Initializing question-answering chain...\n"
     ]
    },
    {
     "name": "stderr",
     "output_type": "stream",
     "text": [
      "C:\\Users\\Steffen\\AppData\\Local\\Temp\\ipykernel_11760\\4053157642.py:28: LangChainDeprecationWarning: The class `ChatOpenAI` was deprecated in LangChain 0.0.10 and will be removed in 1.0. An updated version of the class exists in the :class:`~langchain-openai package and should be used instead. To use it run `pip install -U :class:`~langchain-openai` and import as `from :class:`~langchain_openai import ChatOpenAI``.\n",
      "  llm = ChatOpenAI(temperature=0.0, model_name=\"gpt-3.5-turbo\")  # OpenAI API key must be set\n"
     ]
    },
    {
     "name": "stdout",
     "output_type": "stream",
     "text": [
      "\n",
      "Ready! Ask questions about your documents.\n"
     ]
    }
   ],
   "source": [
    "import os\n",
    "from langchain.document_loaders import TextLoader\n",
    "from langchain.text_splitter import RecursiveCharacterTextSplitter\n",
    "from langchain.vectorstores import FAISS\n",
    "from langchain.embeddings import HuggingFaceEmbeddings\n",
    "from langchain.chat_models import ChatOpenAI\n",
    "from langchain.chains import RetrievalQA\n",
    "\n",
    "vector_store_path = \"C:/Users/Steffen/Desktop/vector_store_1\"\n",
    "\n",
    "# 1. Load .txt files from 'documents' folder\n",
    "def load_documents(folder_path=\"C:/Users/Steffen/Dropbox\"):\n",
    "    docs = []\n",
    "    for file in os.listdir(folder_path):\n",
    "        if file.startswith(\"lex-home\") and file.endswith(\".txt\"):\n",
    "            path = os.path.join(folder_path, file)\n",
    "            loader = TextLoader(path, encoding='utf-8')\n",
    "            docs.extend(loader.load())\n",
    "    return docs\n",
    "\n",
    "# 2. Split documents into chunks\n",
    "def split_documents(documents):\n",
    "    splitter = RecursiveCharacterTextSplitter(chunk_size=240, chunk_overlap=30)\n",
    "    return splitter.split_documents(documents)\n",
    "\n",
    "\n",
    "# 4. Create a RAG chain using OpenAI GPT\n",
    "def create_qa_chain(vectorstore):\n",
    "    retriever = vectorstore.as_retriever()\n",
    "    llm = ChatOpenAI(temperature=0.0, model_name=\"gpt-3.5-turbo\")  # OpenAI API key must be set\n",
    "    return RetrievalQA.from_chain_type(llm=llm, retriever=retriever)\n",
    "\n",
    "# 5. Main loop\n",
    "def main():\n",
    "    print(\"Loading documents...\")\n",
    "    docs = load_documents()\n",
    "    print(f\"Loaded {len(docs)} documents.\")\n",
    "\n",
    "    print(\"Splitting into chunks...\")\n",
    "    chunks = split_documents(docs)\n",
    "    print(f\"{len(chunks)} chunks created.\")\n",
    "    \n",
    "    print(\"Creating vector index...\")\n",
    "    embeddings = HuggingFaceEmbeddings(model_name=\"all-MiniLM-L6-v2\")\n",
    "    use_local = input(\"Use local embeddings? (yes/no): \").lower().strip()\n",
    "\n",
    "    if use_local == \"yes\" and os.path.exists(vector_store_path):\n",
    "        print(\"Loading existing vector store...\")\n",
    "        vectorstore = FAISS.load_local(vector_store_path, embeddings, allow_dangerous_deserialization=True)\n",
    "        print(\"Vector store loaded successfully!\")\n",
    "    else:\n",
    "        print(\"Creating new vector store...\")\n",
    "        vectorstore = FAISS.from_documents(chunks, embeddings)\n",
    "        vectorstore.save_local(vector_store_path)\n",
    "    \n",
    "    print(\"Initializing question-answering chain...\")\n",
    "    with open(\"C:/Users/Steffen/Desktop/openai_key.txt\", \"r\") as f:\n",
    "        key = f.read().strip()\n",
    "    os.environ[\"OPENAI_API_KEY\"] = key\n",
    "    qa = create_qa_chain(vectorstore)\n",
    "\n",
    "    print(\"\\nReady! Ask questions about your documents.\")\n",
    "    while True:\n",
    "        query = input(\"\\nYour question ('exit' to quit): \")\n",
    "        if query.lower() in [\"exit\", \"quit\"]:\n",
    "            break\n",
    "        answer = qa.run(query)\n",
    "        print(\"\\nAnswer:\", answer)\n",
    "    \n",
    "if __name__ == \"__main__\":\n",
    "    main()"
   ]
  }
 ],
 "metadata": {
  "kernelspec": {
   "display_name": "Python 3 (ipykernel)",
   "language": "python",
   "name": "python3"
  },
  "language_info": {
   "codemirror_mode": {
    "name": "ipython",
    "version": 3
   },
   "file_extension": ".py",
   "mimetype": "text/x-python",
   "name": "python",
   "nbconvert_exporter": "python",
   "pygments_lexer": "ipython3",
   "version": "3.12.7"
  }
 },
 "nbformat": 4,
 "nbformat_minor": 5
}
