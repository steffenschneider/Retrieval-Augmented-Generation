{
 "cells": [
  {
   "cell_type": "code",
   "execution_count": 29,
   "id": "f9e3505f",
   "metadata": {},
   "outputs": [],
   "source": [
    "#!pip install langchain\n",
    "#!pip install langchain-community\n",
    "#!pip install faiss-cpu\n",
    "#!pip install openai\n",
    "#!pip install sentence-transformers\n",
    "#!pip install tf-keras"
   ]
  },
  {
   "cell_type": "code",
   "execution_count": null,
   "id": "2790a983",
   "metadata": {},
   "outputs": [
    {
     "name": "stdout",
     "output_type": "stream",
     "text": [
      "Loading documents...\n",
      "Loaded 2 documents.\n",
      "Splitting into chunks...\n",
      "2 chunks created.\n",
      "Creating vector index...\n",
      "Initializing question-answering chain...\n",
      "\n",
      "Ready! Ask questions about your documents.\n",
      "\n",
      "Answer: Der blaue Bär ist 321 Jahre alt und lebt in Bad Säckingen.\n"
     ]
    }
   ],
   "source": [
    "import os\n",
    "from langchain.document_loaders import TextLoader\n",
    "from langchain.text_splitter import RecursiveCharacterTextSplitter\n",
    "from langchain.vectorstores import FAISS\n",
    "from langchain.embeddings import HuggingFaceEmbeddings\n",
    "from langchain.chat_models import ChatOpenAI\n",
    "from langchain.chains import RetrievalQA\n",
    "\n",
    "# 1. Load .txt files from 'documents' folder\n",
    "def load_documents(folder_path=\"C:/Users/Steffen/Desktop\"):\n",
    "    docs = []\n",
    "    for file in os.listdir(folder_path):\n",
    "        if file.endswith(\".txt\"):\n",
    "            path = os.path.join(folder_path, file)\n",
    "            loader = TextLoader(path, encoding='utf-8')\n",
    "            docs.extend(loader.load())\n",
    "    return docs\n",
    "\n",
    "# 2. Split documents into chunks\n",
    "def split_documents(documents):\n",
    "    splitter = RecursiveCharacterTextSplitter(chunk_size=500, chunk_overlap=50)\n",
    "    return splitter.split_documents(documents)\n",
    "\n",
    "# 3. Create vector DB with local HuggingFace embeddings\n",
    "def create_vectorstore(chunks):\n",
    "    embeddings = HuggingFaceEmbeddings(model_name=\"all-MiniLM-L6-v2\")\n",
    "    return FAISS.from_documents(chunks, embeddings)\n",
    "\n",
    "# 4. Create a RAG chain using OpenAI GPT\n",
    "def create_qa_chain(vectorstore):\n",
    "    retriever = vectorstore.as_retriever()\n",
    "    llm = ChatOpenAI(temperature=0.0, model_name=\"gpt-3.5-turbo\")  # OpenAI API key must be set\n",
    "    return RetrievalQA.from_chain_type(llm=llm, retriever=retriever)\n",
    "\n",
    "# 5. Main loop\n",
    "def main():\n",
    "    print(\"Loading documents...\")\n",
    "    docs = load_documents()\n",
    "    print(f\"Loaded {len(docs)} documents.\")\n",
    "\n",
    "    print(\"Splitting into chunks...\")\n",
    "    # size until 500 characters, overlap 50 characters\n",
    "    # This is the default setting, but you can adjust it if needed\n",
    "    chunks = split_documents(docs)\n",
    "    print(f\"{len(chunks)} chunks created.\")\n",
    "    \n",
    "    print(\"Creating vector index...\")\n",
    "    vectorstore = create_vectorstore(chunks)\n",
    "\n",
    "    print(\"Initializing question-answering chain...\")\n",
    "    with open(\"C:/Users/Steffen/Desktop/openai_key.txt\", \"r\") as f:\n",
    "        key = f.read().strip()\n",
    "    os.environ[\"OPENAI_API_KEY\"] = key\n",
    "    qa = create_qa_chain(vectorstore)\n",
    "\n",
    "    print(\"\\nReady! Ask questions about your documents.\")\n",
    "    while True:\n",
    "        query = input(\"\\nYour question ('exit' to quit): \")\n",
    "        if query.lower() in [\"exit\", \"quit\"]:\n",
    "            break\n",
    "        answer = qa.run(query)\n",
    "        print(\"\\nAnswer:\", answer)\n",
    "    \n",
    "if __name__ == \"__main__\":\n",
    "    main()"
   ]
  }
 ],
 "metadata": {
  "kernelspec": {
   "display_name": "Python 3 (ipykernel)",
   "language": "python",
   "name": "python3"
  },
  "language_info": {
   "codemirror_mode": {
    "name": "ipython",
    "version": 3
   },
   "file_extension": ".py",
   "mimetype": "text/x-python",
   "name": "python",
   "nbconvert_exporter": "python",
   "pygments_lexer": "ipython3",
   "version": "3.12.7"
  }
 },
 "nbformat": 4,
 "nbformat_minor": 5
}
